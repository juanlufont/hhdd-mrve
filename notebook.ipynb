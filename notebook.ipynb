{
 "cells": [
  {
   "cell_type": "markdown",
   "id": "6cbfd34c",
   "metadata": {},
   "source": [
    "# Métodos de Representación y Visualización Espacial HHDD\n",
    "\n",
    "Trabajo de evaluación curso 2021-22\n",
    "\n",
    "Profesor Manuel Díaz Ordoñez\n",
    "\n",
    "\n",
    "## Descripción\n",
    "\n",
    "El presente [Jupyter notebook](https://jupyter.org/) realiza el procesado de datos parte del trabajo de evaluación de la asignatura. El ejercicio consiste en acceder a [Soundtoll Database](http://www.soundtoll.nl/index.php/en/over-het-project/str-online), seleccionar una mercancía y periodo de tiempo y descargar en formato CSV la información relativa a _cargoes_ y _passages_.\n",
    "\n",
    "### Parámetros de entrada\n",
    "Los parámetros de búsqueda en la Soundtoll Database son:\n",
    "* mercancía: **ámbar**, la cadena de búsqueda usada ha sido `B*rnste*n`, la cual cubre _Barnsteen_ (danés), _Bernstein_ (neerlandés) y diversas variaciones.\n",
    "* periodo: **1634-1857** \n",
    "\n",
    "Los archivo CSV resultantes están almacenados en el directorio `data/`.\n",
    "\n",
    "### Funcionalidades\n",
    "El código realiza las siguientes operaciones sobre los archivos CSV:\n",
    "* genera un campo _fecha_ combinando los campos _día_, _month_ and _year_ del dataset _passages_\n",
    "* filtra los registros del dataset _cargoes_ asociados con ámbar en cualquiera de sus traducciones soportadas (DK, NL)\n",
    "* elimina los registros asociados a puertos excluidos del estudio\n",
    "* hace uniformes los nombres de puertos basado en un conjunto de reglas preestablecidas, este paso elimina la variabilidad presente en los puertos\n",
    "* selecciona unidades de peso soportadas (e.g. skippund, pund, ..) y las convierte a Kg\n",
    "* asocia las coordenadas de longitud y latitud a cada uno de los puertos\n",
    "* combina los datos de los dataset _cargoes_ y _passages_\n",
    "* genera dos nuevos datasets basados en el puerto de salida y el de llegada de la mercancía respectivamente, cada dataset contiene el sumatorio de kilos de mercancía para cada uno de los puertos"
   ]
  },
  {
   "cell_type": "markdown",
   "id": "88616cfa",
   "metadata": {},
   "source": [
    "## Código fuente\n"
   ]
  },
  {
   "cell_type": "markdown",
   "id": "ddfb7e41",
   "metadata": {},
   "source": [
    "### Librerías y funciones auxiliares\n",
    "\n",
    "Función `clean_port` recibe el nombre de un puerto (`port`) y un listado de reglas para corregir / hacer uniforme el nombre del puerto (`dct`). Si el puerto cumple alguna de las reglas, su nombre se sustituye por el nombre nombre asociado a la regla.\n",
    "\n",
    "Ejemplo:\n",
    "```\n",
    "port = 'Amst.'\n",
    "\n",
    "dct = {\n",
    "  'Amsterdam' : r'Amst.*'\n",
    "}\n",
    "\n",
    "fixed = clean_port(port, dct)\n",
    "print (fixed)\n",
    "> \"Amsterdam\"\n",
    "```\n",
    "\n",
    "Función `filter_amber` recibe una cadena de texto y decide si se corresponde con alguna de las posibles traducciones de la palabra \"amber\" soportadas por la función (actualmente soporta distintas versiones de la traducción danesa y neerlandesa).\n",
    "\n",
    "Ejemplo:\n",
    "```\n",
    "palabra = 'Barnsteen'\n",
    "\n",
    "filter_amber(palabra)\n",
    "> True\n",
    "```\n",
    "\n",
    "Función `geolocate_ports` toma una lista de nombres de puertos y devuelve un diccionario donde cada puerto tiene asociada las coordenadas _longitud_ y _latitud_. Si el código no puede encontrar las coordenadas para un determinado puerto, se le asignan las coordenadas `(None, None)`.\n",
    "\n",
    "Ejemplo:\n",
    "```\n",
    "puertos = ['Amsterdam', 'Hamburgo']\n",
    "\n",
    "coor = geolocate_ports(puertos)\n",
    "print(coor)\n",
    "> {\n",
    ">   'Amsterdam': [X1, Y1],\n",
    ">   'Hamburgo': [X2, Y2]\n",
    "> }\n",
    "```\n",
    "\n",
    "Función `fraction_to_float` recibe una variable, si es una cadena de texto que contiene algún tipo de fracción (e.g. `1 1/3`) la función calcula y devuelve el equivalente en formato `float`.\n",
    "\n",
    "Ejemplo:\n",
    "```\n",
    "var1 = 1.0\n",
    "var2 = '1 1/2'\n",
    "\n",
    "fraction_to_float(var1)\n",
    "> 1.0\n",
    "\n",
    "fraction_to_float(var2)\n",
    "> 1.5\n",
    "```"
   ]
  },
  {
   "cell_type": "code",
   "execution_count": 1,
   "id": "5feeb1f9",
   "metadata": {},
   "outputs": [
    {
     "ename": "ModuleNotFoundError",
     "evalue": "No module named 'pandas'",
     "output_type": "error",
     "traceback": [
      "\u001b[0;31m---------------------------------------------------------------------------\u001b[0m",
      "\u001b[0;31mModuleNotFoundError\u001b[0m                       Traceback (most recent call last)",
      "Input \u001b[0;32mIn [1]\u001b[0m, in \u001b[0;36m<module>\u001b[0;34m\u001b[0m\n\u001b[1;32m      1\u001b[0m \u001b[38;5;28;01mimport\u001b[39;00m \u001b[38;5;21;01mjson\u001b[39;00m\n\u001b[1;32m      2\u001b[0m \u001b[38;5;28;01mimport\u001b[39;00m \u001b[38;5;21;01mre\u001b[39;00m\n\u001b[0;32m----> 3\u001b[0m \u001b[38;5;28;01mimport\u001b[39;00m \u001b[38;5;21;01mpandas\u001b[39;00m \u001b[38;5;28;01mas\u001b[39;00m \u001b[38;5;21;01mpd\u001b[39;00m\n\u001b[1;32m      5\u001b[0m \u001b[38;5;28;01mfrom\u001b[39;00m \u001b[38;5;21;01mdatetime\u001b[39;00m \u001b[38;5;28;01mimport\u001b[39;00m datetime\n\u001b[1;32m      6\u001b[0m \u001b[38;5;28;01mfrom\u001b[39;00m \u001b[38;5;21;01mfractions\u001b[39;00m \u001b[38;5;28;01mimport\u001b[39;00m Fraction\n",
      "\u001b[0;31mModuleNotFoundError\u001b[0m: No module named 'pandas'"
     ]
    }
   ],
   "source": [
    "import json\n",
    "import re\n",
    "import pandas as pd\n",
    "\n",
    "from datetime import datetime\n",
    "from fractions import Fraction\n",
    "from geopy import geocoders  \n",
    "\n",
    "\n",
    "def clean_port(port, dct):\n",
    "    \"\"\"\n",
    "    Check a given port against the dictionary with name rules.\n",
    "    Returns a corrected name if any rule applies\n",
    "    \n",
    "    :param port: port name, e.g. Ambsterdam\n",
    "    :param dct: rule dictionary with naming regular expressions\n",
    "    :returns: corrected port name based on rule dictionary\n",
    "    \"\"\"\n",
    "    for key, regex in dct.items():\n",
    "        if bool(re.search(regex, port)):\n",
    "            return key\n",
    "    return port\n",
    "\n",
    "\n",
    "def filter_amber(x):\n",
    "    \"\"\"\n",
    "    Check if string x matches the word \"amber\" in any of the\n",
    "    supported languagles (Danish, Dutch and English)\n",
    "    \n",
    "    :param: x string\n",
    "    :returns: True if it maches \"amber\" in Danish, Dutch or English\n",
    "    \"\"\"\n",
    "    # rule for English\n",
    "    re_amber = r'ambe'\n",
    "    # rule for Danish and Dutch\n",
    "    re_bersteen = r'b.rnste.*n'\n",
    "    return bool(re.search(re_amber, x.lower())) or bool(re.search(re_bersteen, x.lower()))\n",
    "\n",
    "\n",
    "def geolocate_ports(ports):\n",
    "    \"\"\"\n",
    "    Calculate geographical coordinates for a list of cities (strings).\n",
    "    \n",
    "    :param ports: list of strings\n",
    "    :returns: dictionary where each city (key) has associated its coordinates\n",
    "              as a tuple. If a city is not found, coordinates are (None, None)\n",
    "              \n",
    "    :example:\n",
    "        ports = ['Amsterdam', 'Rotterdam']\n",
    "        coor = geolocate_ports(ports)\n",
    "        print(coor)\n",
    "        > {\n",
    "        >   'Amsterdam': (x1, y1),\n",
    "        >   'Rotterdam': (x2, y2)\n",
    "        > }\n",
    "    \"\"\"\n",
    "    gn = geocoders.Nominatim(user_agent='fakeusername')\n",
    "    coordinates  = {}\n",
    "    \n",
    "    for port in ports:\n",
    "        coor = gn.geocode(port)\n",
    "        if coor is not None:\n",
    "            coordinates[port] = (coor.latitude, coor.longitude)\n",
    "        else:\n",
    "            coordinates[port] = (None, None)\n",
    "        \n",
    "    return coordinates\n",
    "\n",
    "\n",
    "def fraction_to_float(text):\n",
    "    \"\"\"\n",
    "    Checks if a variable is a string containing a fraction expression\n",
    "    (e.g. \"1 1/2\"). If so it calculates the equivalent float value.\n",
    "    \n",
    "    :param text: value to check\n",
    "    :returns: float value\n",
    "    \"\"\"\n",
    "    if isinstance(text, str):\n",
    "        total = [Fraction(part) for part in text.split(' ')]\n",
    "        return float(sum(total))\n",
    "    else:\n",
    "        return text\n",
    "    "
   ]
  },
  {
   "cell_type": "markdown",
   "id": "06243d25",
   "metadata": {},
   "source": [
    "### Archivos CSV y campos asociados\n",
    "\n",
    "Los datos obtenidos de _Soundtoll Database_ están ubicados en el directorio `data/`.\n",
    "\n",
    "Las cabeceras de los archivos CSV están en neerlandés, las variables `fields_cargo` y `fields_passage` contiene las traducciones de estas cabeceras al inglés."
   ]
  },
  {
   "cell_type": "code",
   "execution_count": null,
   "id": "aef7db6d",
   "metadata": {},
   "outputs": [],
   "source": [
    "# CSV files to be processed\n",
    "file_cargo = 'data/cargoes_Advanced_search_results_values_B%rnste%n__1634_1857_.csv'\n",
    "file_passage = 'data/passages_Advanced_search_results_values_B%rnste%n__1634_1857_.csv'\n",
    "\n",
    "# translation NL-EN for cargo headers\n",
    "fields_cargo = {\n",
    "    'id_doorvaart': 'id',\n",
    "    'van': 'from',\n",
    "    'naar': 'to',\n",
    "    'maat': 'unit', \n",
    "    'aantal': 'amount',\n",
    "    'soort': 'type'\n",
    "}\n",
    "# list of NL cargo headers only\n",
    "fields_cargo_nl = fields_cargo.keys()\n",
    "\n",
    "# translation NL-EN for passage headers\n",
    "fields_passage = {\n",
    "    'id_doorvaart': 'id',\n",
    "    'dag': 'day',\n",
    "    'maand': 'month',\n",
    "    'jaar': 'year'\n",
    "}\n",
    "# list of NL passage headers only\n",
    "fields_passage_nl = fields_passage"
   ]
  },
  {
   "cell_type": "markdown",
   "id": "6c060bbe",
   "metadata": {},
   "source": [
    "### Nombres de puertos\n",
    "\n",
    "El código permite filtrar los registros de carga asociados con puertos o destinos que no están soportados por algún motivo: nombres no se corresponde con un puerto (e.g. \"Francia\"), o no ha sido definido.\n",
    "\n",
    "Los puertos soportados presentan cierta variabilidad en su ortografía (e.g. nombres para Londres: London, Lundon, ..). El código usa expresiones regulares para identificar las distintas variantes de un nombre de puerto y reemplazarla por su nombre _canónico_. Las reglas han sido definidas a mano después de explorar manualmente los nombres de puertos existentes en los conjuntos de datos. Añadir o modificar reglas es trivial, sólo requiere conocimiento básico sobre sintaxis de expresiones regulares."
   ]
  },
  {
   "cell_type": "code",
   "execution_count": null,
   "id": "efe6045f",
   "metadata": {},
   "outputs": [],
   "source": [
    "# port names to be removed\n",
    "ports_remove = ['-', 'Østersøen', 'Franckeriige', 'Habel de Graas', 'Westerwig', 'Der Liebau', 'Liebau', 'Norge']\n",
    "\n",
    "ports_regex = {\n",
    "    'Amsterdam': r'Amb?s.*',\n",
    "    'Konigsberg': r'Cønn?i.+|K.nn?i?s?.+',\n",
    "    'Danzig': r'Dan.+',\n",
    "    'Dunkirk': r'D.nk.rchen',\n",
    "    'Emden': r'Emb?den',\n",
    "    'Gottenborg': r'Got.enborg',\n",
    "    'Habel de Graas': r'Habel de Gra.s',\n",
    "    'Helsingør': r'Helsingø.?r',\n",
    "    'Hull': r'Hul?',\n",
    "    'Copenhagen': r'K.øbenha..',\n",
    "    'Landskrona': r'Landscrona',\n",
    "    'Leeuwarden': r'L.ur?w.+en',\n",
    "    'London': r'L[o|u]nn?d',\n",
    "    'Montrose': r'Montrosse?',\n",
    "    'Newcastle': r'Nycast.*',\n",
    "    'Petersburg': r'Petersb.rg',\n",
    "    'Rugenwalde': r'R.genwalde',\n",
    "    'Stockholm': r'Stock.*',\n",
    "    'Vedbæk': r'Wedbek',\n",
    "    'Dundee': r'Dundie',\n",
    "    'Trondheim': r'Tronhiem',\n",
    "    'Ramsgate': r'Romansgate',\n",
    "    'Klaipėda': r'Der Memel',\n",
    "}"
   ]
  },
  {
   "cell_type": "markdown",
   "id": "7f84f134",
   "metadata": {},
   "source": [
    "### Tabla de conversión de unidades locales de medida a Kilogramos\n",
    "\n",
    "Los conjuntos de dato de entrada usan unidades de medida usadas en el momento del registro de los datos. Algunas unidades de medida son de masa y tienen equivalentes en kilos. Otras no tienen un equivalente en unidades de masa (e.g. \"docenas\").\n",
    "\n",
    "Las unidades soportadas por el código son:\n",
    "* _pund_\n",
    "* _skippund_\n",
    "* _lispund_\n",
    "* _centner\n",
    "\n",
    "El diccionario `unit_to_kg` recoge todas las unidades soportadas y su equivalencia en Kg."
   ]
  },
  {
   "cell_type": "code",
   "execution_count": null,
   "id": "afd8354f",
   "metadata": {},
   "outputs": [],
   "source": [
    "unit_to_kg = {\n",
    "    # https://www.sizes.com/units/pund.htm\n",
    "    'Pund': 0.5,\n",
    "    # https://www.sizes.com/units/skippund.htm\n",
    "    'Skippund': 160.076,\n",
    "    # https://sv.wikipedia.org/wiki/Lispund\n",
    "    # https://www.sizes.com/units/lispund.htm\n",
    "    'Lispund': 8.003,\n",
    "    # https://www.sizes.com/units/centner.htm\n",
    "    'Centner': 100,\n",
    "}"
   ]
  },
  {
   "cell_type": "markdown",
   "id": "a4baf4d5",
   "metadata": {},
   "source": [
    "### Cargar datos desde archivos CSV"
   ]
  },
  {
   "cell_type": "code",
   "execution_count": null,
   "id": "209fcd32",
   "metadata": {},
   "outputs": [],
   "source": [
    "# cargoes\n",
    "cargoes_raw = pd.read_csv(file_cargo, header=0, usecols=fields_cargo_nl, sep=';')\n",
    "# translate headers\n",
    "cargoes_raw = cargoes_raw.rename(columns=fields_cargo)\n",
    "\n",
    "# passages\n",
    "passages_raw = pd.read_csv(file_passage, header=0, usecols=fields_passage_nl, sep=';')\n",
    "# translate headers\n",
    "passages_raw = passages_raw.rename(columns=fields_passage)"
   ]
  },
  {
   "cell_type": "markdown",
   "id": "a4ee6acf",
   "metadata": {},
   "source": [
    "### Construir campo fecha\n",
    "\n",
    "Unimos los campos `year`, `month` y `day` en un único campo `date` (Fecha)."
   ]
  },
  {
   "cell_type": "code",
   "execution_count": null,
   "id": "798ecbff",
   "metadata": {},
   "outputs": [],
   "source": [
    "# create new column date combining several columns\n",
    "passages_raw['date'] = passages_raw[['year', 'month', 'day']].apply(\n",
    "    lambda x: datetime(x[0], x[1], x[2]),\n",
    "    axis=1\n",
    ")\n",
    "# remove columns day, month and year\n",
    "passages = passages_raw.drop(columns=['day', 'month', 'year'])"
   ]
  },
  {
   "cell_type": "markdown",
   "id": "108ebe8c",
   "metadata": {},
   "source": [
    "### Seleccionar carga de tipo \"ámbar\"\n",
    "\n",
    "Filtramos el dataset `cargoes_raw` seleccionando únicamente las filas del tipo _ámbar_. La función `filter_amber` permite determinar si una cadena de texto se corresponde con la mercancía _ámbar_ en alguno de los idiomas soportados (danés, inglés y neerlandés)."
   ]
  },
  {
   "cell_type": "code",
   "execution_count": null,
   "id": "3287866c",
   "metadata": {},
   "outputs": [],
   "source": [
    "# logic vector, indicates if few is \"amber\" type or not\n",
    "filter_vector = cargoes_raw['type'].apply(filter_amber)\n",
    "# keep only rows of \"amber\" type\n",
    "cargoes_raw = cargoes_raw[filter_vector]"
   ]
  },
  {
   "cell_type": "markdown",
   "id": "a1ec8ed4",
   "metadata": {},
   "source": [
    "### Procesar nombres de puertos\n",
    "\n",
    "Aplicamos las reglas definidas en `ports_regex` para hacer uniforme los nombres de los puertos. Aplicamos estas reglas tanto a puertos de origen (`port_from`) como a los de destino (`port_to`)."
   ]
  },
  {
   "cell_type": "code",
   "execution_count": null,
   "id": "dea6f3d4",
   "metadata": {},
   "outputs": [],
   "source": [
    "cargoes_raw['port_from'] = cargoes_raw[['from']].apply(lambda x: clean_port(x[0], ports_regex), axis=1)\n",
    "cargoes_raw['port_to'] = cargoes_raw[['to']].apply(lambda x: clean_port(x[0], ports_regex), axis=1)\n",
    "# remove original columns, not needed any more\n",
    "cargoes = cargoes_raw.drop(['from', 'to'], axis=1)"
   ]
  },
  {
   "cell_type": "markdown",
   "id": "bda6d9a3",
   "metadata": {},
   "source": [
    "### Filtrar unidades de medida soportadas\n",
    "\n",
    "Eliminamos todos los registros asociados a unidades de medida no contempladas en el diccionario `unit_to_kg`."
   ]
  },
  {
   "cell_type": "code",
   "execution_count": null,
   "id": "dbe2dfd5",
   "metadata": {},
   "outputs": [],
   "source": [
    "cargoes = cargoes[cargoes['unit'].isin(unit_to_kg.keys())]"
   ]
  },
  {
   "cell_type": "markdown",
   "id": "ec062b93",
   "metadata": {},
   "source": [
    "### Filtrar puertos no soportados\n",
    "\n",
    "Eliminados los puertos que queremos excluir del análisis (`ports_remove`)."
   ]
  },
  {
   "cell_type": "code",
   "execution_count": null,
   "id": "bd433013",
   "metadata": {},
   "outputs": [],
   "source": [
    "cargoes = cargoes[~cargoes['port_from'].isin(ports_remove)]\n",
    "cargoes = cargoes[~cargoes['port_to'].isin(ports_remove)]"
   ]
  },
  {
   "cell_type": "markdown",
   "id": "4b6d1ded",
   "metadata": {},
   "source": [
    "### Procesar fracciones\n",
    "Algunas cantidades están expresadas como fracciones (i.e. '1 3/4'). Convertimos esta representación a formato decimal."
   ]
  },
  {
   "cell_type": "code",
   "execution_count": null,
   "id": "aee4113b",
   "metadata": {},
   "outputs": [],
   "source": [
    "# from fractions to float\n",
    "cargoes['amount'] = cargoes['amount'].apply(fraction_to_float)\n",
    "cargoes['kg'] = cargoes[['amount', 'unit']].apply(lambda x: x[0] * unit_to_kg[x[1]], axis=1)"
   ]
  },
  {
   "cell_type": "markdown",
   "id": "bf8600bc",
   "metadata": {},
   "source": [
    "### Agrupar datos por viaje\n",
    "Algunos viajes presentan varias entradas para la mercancía _ámbar_ en distintas unidades de medida. Una vez que todas las unidades de medida han sido convertidas a kilogramos, es posible sumar estas cantidades, obteniendo el total de kilogramos transportados en un determinado viaje"
   ]
  },
  {
   "cell_type": "code",
   "execution_count": null,
   "id": "40dfcd40",
   "metadata": {},
   "outputs": [],
   "source": [
    "# group by id, port_from and port_to, calculate sum of kg\n",
    "# original units and amounts will be lost during the aggregation\n",
    "cargoes_summary = cargoes.groupby(['id', 'port_from', 'port_to'])['kg'].sum()\n",
    "# it is required to reset indexes\n",
    "cargoes_summary = cargoes_summary.reset_index()"
   ]
  },
  {
   "cell_type": "markdown",
   "id": "6548620d",
   "metadata": {},
   "source": [
    "### Calcular / cargar coordenadas\n",
    "\n",
    "Cálculo de coordenadas puede ser lento. Proporcionamos un diccionario precalculado.\n",
    "\n",
    "Re-calcular coordenadas sólo requiere asignar valor `False` a la variable `use_coordinates_cache`, pero puede llegar alrededor de 1 minuto. En caso de que nuevos puertos sean añadidos al conjunto de datos, será necesario volver a calcular todas las coordenadas geográficas."
   ]
  },
  {
   "cell_type": "code",
   "execution_count": null,
   "id": "e9d31dd4",
   "metadata": {},
   "outputs": [],
   "source": [
    "# list of all the processed port names in cargoes dataset\n",
    "ports_filtered = set.union(set(cargoes['port_from'].unique()), set(cargoes['port_to'].unique()))\n",
    "\n",
    "# change this if you need to fetch again all coordinates!\n",
    "use_coordinates_cache = True\n",
    "\n",
    "if use_coordinates_cache:\n",
    "    # load coordinates cache\n",
    "    with open('./coordinates.json', 'r') as file_json:\n",
    "        coordinates = json.load(file_json)\n",
    "else:\n",
    "    coordinates = geolocate_ports(list(ports_filtered))\n",
    "    with open('./coordinates.json', 'w') as file_json:\n",
    "        json.dump(coordinates, file_json)\n",
    "\n",
    "cargoes_summary['lat_from'] = cargoes_summary['port_from'].apply(lambda x: coordinates[x][0])\n",
    "cargoes_summary['lon_from'] = cargoes_summary['port_from'].apply(lambda x: coordinates[x][1])\n",
    "\n",
    "cargoes_summary['lat_to'] = cargoes_summary['port_to'].apply(lambda x: coordinates[x][0])\n",
    "cargoes_summary['lon_to'] = cargoes_summary['port_to'].apply(lambda x: coordinates[x][1])"
   ]
  },
  {
   "cell_type": "markdown",
   "id": "461a637a",
   "metadata": {},
   "source": [
    "### Generar dataset final\n",
    "\n",
    "Unimos los datos procesados de _cargoes_ y _passages_ en una única tabla."
   ]
  },
  {
   "cell_type": "code",
   "execution_count": null,
   "id": "aa06ad2f",
   "metadata": {},
   "outputs": [],
   "source": [
    "table = pd.merge(cargoes_summary, passages, on='id')\n",
    "table.to_csv('amber.csv')"
   ]
  },
  {
   "cell_type": "code",
   "execution_count": null,
   "id": "08c1511b",
   "metadata": {},
   "outputs": [],
   "source": [
    "table"
   ]
  },
  {
   "cell_type": "markdown",
   "id": "e4dc5969",
   "metadata": {},
   "source": [
    "### Crear resúmenes del total de mercancía\n",
    "\n",
    "Creamos dos conjunto de datos distintos, uno para ámbar recibido por cada puerto y otro para ámbar enviado desde cada puerto. Estos conjuntos de datos serán usados en QGis para crear capas mostrando la cantidad total de ámbar saliendo y llegando a cada uno de los puertos."
   ]
  },
  {
   "cell_type": "code",
   "execution_count": null,
   "id": "186e33c9",
   "metadata": {},
   "outputs": [],
   "source": [
    "port_from = table.groupby(['port_from', 'lat_from', 'lon_from'])['kg'].sum()\n",
    "port_from = port_from.reset_index()\n",
    "port_from.to_csv('amber_port_origin.csv')\n",
    "\n",
    "port_to = table.groupby(['port_to', 'lat_to', 'lon_to'])['kg'].sum()\n",
    "port_to = port_to.reset_index()\n",
    "port_to.to_csv('amber_port_destination.csv')"
   ]
  },
  {
   "cell_type": "code",
   "execution_count": null,
   "id": "584ffd69",
   "metadata": {},
   "outputs": [],
   "source": [
    "port_from"
   ]
  },
  {
   "cell_type": "code",
   "execution_count": null,
   "id": "50778f57",
   "metadata": {},
   "outputs": [],
   "source": [
    "port_to"
   ]
  }
 ],
 "metadata": {
  "kernelspec": {
   "display_name": "Python 3 (ipykernel)",
   "language": "python",
   "name": "python3"
  },
  "language_info": {
   "codemirror_mode": {
    "name": "ipython",
    "version": 3
   },
   "file_extension": ".py",
   "mimetype": "text/x-python",
   "name": "python",
   "nbconvert_exporter": "python",
   "pygments_lexer": "ipython3",
   "version": "3.9.9"
  }
 },
 "nbformat": 4,
 "nbformat_minor": 5
}
