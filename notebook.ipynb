{
 "cells": [
  {
   "cell_type": "markdown",
   "id": "6cbfd34c",
   "metadata": {},
   "source": [
    "# Métodos de Representación y Visualización Espacial HHDD\n",
    "\n",
    "Curso: 2021-22\n",
    "\n",
    "Profesor: Manuél Díaz Ordoñez"
   ]
  },
  {
   "cell_type": "markdown",
   "id": "68e7490e",
   "metadata": {},
   "source": [
    "## Objetivos\n",
    "\n",
    "Lista de objetivos y funcionalidades\n",
    "\n",
    "Estudiaremos el _**ambar**_\n",
    "\n",
    "### Ejecutar el código\n",
    "* datos de entrada\n",
    "* datos de salida"
   ]
  },
  {
   "cell_type": "markdown",
   "id": "88616cfa",
   "metadata": {},
   "source": [
    "## Código fuente\n",
    "\n",
    "### Dependencias\n",
    "* python\n",
    "\n",
    "Librerías Python:\n",
    "* notebook\n",
    "* pandas\n",
    "* geopy\n"
   ]
  },
  {
   "cell_type": "markdown",
   "id": "ddfb7e41",
   "metadata": {},
   "source": [
    "### Librerías y funciones axuliares"
   ]
  },
  {
   "cell_type": "code",
   "execution_count": 221,
   "id": "5feeb1f9",
   "metadata": {},
   "outputs": [],
   "source": [
    "import json\n",
    "import re\n",
    "import pandas as pd\n",
    "\n",
    "from datetime import datetime\n",
    "from fractions import Fraction\n",
    "from geopy import geocoders  \n",
    "\n",
    "\n",
    "def clean_port(port, dct):\n",
    "    \"\"\"\n",
    "    Check a given port agaisnt the dictionary with name rules.\n",
    "    Returns a corrected name if any rule applies\n",
    "    \n",
    "    :param port: port name, e.g. Ambsterdam\n",
    "    :param dct: rule dictionary with naming regular expressions\n",
    "    :returns: corrected port name based on rule dictionary\n",
    "    \"\"\"\n",
    "    for key, regex in dct.items():\n",
    "        if bool(re.search(regex, port)):\n",
    "            return key\n",
    "    return port\n",
    "\n",
    "\n",
    "def filter_amber(x):\n",
    "    \"\"\"\n",
    "    Check if string x matches the word \"amber\" in any of the\n",
    "    supported languagles (Danish, Dutch and English)\n",
    "    \n",
    "    :param: x string\n",
    "    :returns: True if it maches \"amber\" in Danish, Dutch or English\n",
    "    \"\"\"\n",
    "    # rule for English\n",
    "    re_amber = r'ambe'\n",
    "    # rule for Danish and Dutch\n",
    "    re_bersteen = r'b.rnste.*n'\n",
    "    return bool(re.search(re_amber, x.lower())) or bool(re.search(re_bersteen, x.lower()))\n",
    "\n",
    "\n",
    "def geolocate_ports(ports):\n",
    "    \"\"\"\n",
    "    Calculate geographical coordinates for a list of cities (strings).\n",
    "    \n",
    "    :param ports: list of strings\n",
    "    :returns: dictionary where each city (key) has assciated its coordinates\n",
    "              as a tuple. If a city is not found, coordinates are (None, None)\n",
    "              \n",
    "    :example:\n",
    "        ports = ['Amsterdam', 'Rotterdam']\n",
    "        coor = geolocate_ports(ports)\n",
    "        print(coor)\n",
    "        > {\n",
    "        >   'Amsterdam': (x1, y1),\n",
    "        >   'Rotterdam': (x2, y2)\n",
    "        > }\n",
    "    \"\"\"\n",
    "    gn = geocoders.Nominatim(user_agent='fakeusername')\n",
    "    coordinates  = {}\n",
    "    \n",
    "    for port in ports:\n",
    "        coor = gn.geocode(port)\n",
    "        if coor is not None:\n",
    "            coordinates[port] = (coor.latitude, coor.longitude)\n",
    "        else:\n",
    "            coordinates[port] = (None, None)\n",
    "        \n",
    "    return coordinates\n",
    "\n",
    "\n",
    "def fraction_to_float(text):\n",
    "    \"\"\"\n",
    "    Checks if a variable is a string containing a fraction expression\n",
    "    (e.g. \"1 1/2\"). If so it calculates the equivalent float value.\n",
    "    \n",
    "    :param text: value to check\n",
    "    :returns: float value\n",
    "    \"\"\"\n",
    "    if isinstance(text, str):\n",
    "        total = [Fraction(part) for part in text.split(' ')]\n",
    "        return float(sum(total))\n",
    "    else:\n",
    "        return text\n",
    "    "
   ]
  },
  {
   "cell_type": "markdown",
   "id": "06243d25",
   "metadata": {},
   "source": [
    "### Archivos CSV y campos asociados"
   ]
  },
  {
   "cell_type": "code",
   "execution_count": 191,
   "id": "aef7db6d",
   "metadata": {},
   "outputs": [],
   "source": [
    "# CSV files to be processed\n",
    "file_cargo = 'data/cargoes_Advanced_search_results_values_B%rnste%n__1634_1857_.csv'\n",
    "file_passage = 'data/passages_Advanced_search_results_values_B%rnste%n__1634_1857_.csv'\n",
    "\n",
    "# translation NL-EN for cargo headers\n",
    "fields_cargo = {\n",
    "    'id_doorvaart': 'id',\n",
    "    'van': 'from',\n",
    "    'naar': 'to',\n",
    "    'maat': 'unit', \n",
    "    'aantal': 'amount',\n",
    "    'soort': 'type'\n",
    "}\n",
    "# list of NL cargo headers only\n",
    "fields_cargo_nl = fields_cargo.keys()\n",
    "\n",
    "# translation NL-EN for passage headers\n",
    "fields_passage = {\n",
    "    'id_doorvaart': 'id',\n",
    "    'dag': 'day',\n",
    "    'maand': 'month',\n",
    "    'jaar': 'year'\n",
    "}\n",
    "# list of NL passage headers only\n",
    "fields_passage_nl = fields_passage"
   ]
  },
  {
   "cell_type": "markdown",
   "id": "6c060bbe",
   "metadata": {},
   "source": [
    "### Nombres de puertos\n",
    "* puertos a ignorar: no se corresponden con localizaciones concretas, otros motivos\n",
    "* reglas para procesar y uniformar nombres de puertos (expresiones regulares)"
   ]
  },
  {
   "cell_type": "code",
   "execution_count": null,
   "id": "efe6045f",
   "metadata": {},
   "outputs": [],
   "source": [
    "# port names to be removed\n",
    "ports_remove = ['-', 'Østersøen', 'Franckeriige', 'Habel de Graas', 'Westerwig']\n",
    "\n",
    "ports_regex = {\n",
    "    'Amsterdam': r'Amb?s.*',\n",
    "    'Konigsberg': r'Cønn?i.+|K.nn?i?s?.+',\n",
    "    'Danzig': r'Dan.+',\n",
    "    'Dunkirk': r'D.nk.rchen',\n",
    "    'Emden': r'Emb?den',\n",
    "    'Gottenborg': r'Got.enborg',\n",
    "    'Habel de Graas': r'Habel de Gra.s',\n",
    "    'Helsingør': r'Helsingø.?r',\n",
    "    'Hull': r'Hul?',\n",
    "    'Copenhagen': r'K.øbenha..',\n",
    "    'Landskrona': r'Landscrona',\n",
    "    'Leeuwarden': r'L.ur?w.+en',\n",
    "    'London': r'L[o|u]nn?d',\n",
    "    'Montrose': r'Montrosse?',\n",
    "    'Newcastle': r'Nycast.*',\n",
    "    'Petersburg': r'Petersb.rg',\n",
    "    'Rugenwalde': r'R.genwalde',\n",
    "    'Stockholm': r'Stock.*',\n",
    "    'Vedbæk': r'Wedbek',\n",
    "    'Dundee': r'Dundie',\n",
    "    'Trondheim': r'Tronhiem',\n",
    "    'Ramsgate': r'Romansgate',\n",
    "}\n",
    "\n",
    "use_coordinates_cache = True"
   ]
  },
  {
   "cell_type": "markdown",
   "id": "7f84f134",
   "metadata": {},
   "source": [
    "### Tabla de conversión de unidades locales de medida a Kilogramos"
   ]
  },
  {
   "cell_type": "code",
   "execution_count": null,
   "id": "afd8354f",
   "metadata": {},
   "outputs": [],
   "source": [
    "unit_to_kg = {\n",
    "    # https://www.sizes.com/units/pund.htm\n",
    "    'Pund': 0.5,\n",
    "    # https://www.sizes.com/units/skippund.htm\n",
    "    'Skippund': 160.076,\n",
    "    # https://sv.wikipedia.org/wiki/Lispund\n",
    "    # https://www.sizes.com/units/lispund.htm\n",
    "    'Lispund': 8.003,\n",
    "    # https://www.sizes.com/units/centner.htm\n",
    "    'Centner': 100,\n",
    "}"
   ]
  },
  {
   "cell_type": "markdown",
   "id": "a4baf4d5",
   "metadata": {},
   "source": [
    "### Cargar datos desde archivos CSV"
   ]
  },
  {
   "cell_type": "code",
   "execution_count": 240,
   "id": "209fcd32",
   "metadata": {},
   "outputs": [],
   "source": [
    "# cargoes\n",
    "cargoes_raw = pd.read_csv(file_cargo, header=0, usecols=fields_cargo_nl, sep=';')\n",
    "cargoes_raw = cargoes_raw.rename(columns=fields_cargo)\n",
    "\n",
    "# passages\n",
    "passages_raw = pd.read_csv(file_passage, header=0, usecols=fields_passage_nl, sep=';')\n",
    "passages_raw = passages_raw.rename(columns=fields_passage)"
   ]
  },
  {
   "cell_type": "markdown",
   "id": "a4ee6acf",
   "metadata": {},
   "source": [
    "### Construir campo fecha\n",
    "\n",
    "Unimos los campos `year`, `month` y `day` en un único campo `date` (Fecha)"
   ]
  },
  {
   "cell_type": "code",
   "execution_count": 263,
   "id": "798ecbff",
   "metadata": {},
   "outputs": [],
   "source": [
    "# create new column date combining several columns\n",
    "passages_raw['date'] = passages_raw[['year', 'month', 'day']].apply(\n",
    "    lambda x: datetime(x[0], x[1], x[2]),\n",
    "    axis=1\n",
    ")\n",
    "# remove columns day, montgh and year\n",
    "passages = passages_raw.drop(columns=['day', 'month', 'year'])"
   ]
  },
  {
   "cell_type": "markdown",
   "id": "108ebe8c",
   "metadata": {},
   "source": [
    "### Seleccionar carga de tipo \"ámbar\"\n",
    "\n",
    "Filtramos el dataset `cargoes_raw` seleccionando únicamente las filas del tipo _ámbar_. La función `filter_amber` permite determinar si una cadena de texto se corresponde con la mercancía _ámbar_ en alguno de los idiomas soportados (danés, inglés y neerlándés)."
   ]
  },
  {
   "cell_type": "code",
   "execution_count": 264,
   "id": "3287866c",
   "metadata": {},
   "outputs": [],
   "source": [
    "# logic vector, indicates if fow is \"amber\" type or not\n",
    "filter_vector = cargoes_raw['type'].apply(filter_amber)\n",
    "# keep only rows of \"amber\" type\n",
    "cargoes_raw = cargoes_raw[filter_vector]"
   ]
  },
  {
   "cell_type": "markdown",
   "id": "a1ec8ed4",
   "metadata": {},
   "source": [
    "### Procesar nombres de puertos"
   ]
  },
  {
   "cell_type": "code",
   "execution_count": 265,
   "id": "dea6f3d4",
   "metadata": {},
   "outputs": [],
   "source": [
    "cargoes_raw['port_from'] = cargoes_raw[['from']].apply(lambda x: clean_port(x[0], ports_regex), axis=1)\n",
    "cargoes_raw['port_to'] = cargoes_raw[['to']].apply(lambda x: clean_port(x[0], ports_regex), axis=1)\n",
    "# remove original columns, not needed any more\n",
    "cargoes = cargoes_raw.drop(['from', 'to'], axis=1)"
   ]
  },
  {
   "cell_type": "markdown",
   "id": "bda6d9a3",
   "metadata": {},
   "source": [
    "### Filtrar unidades de medida soportadas"
   ]
  },
  {
   "cell_type": "code",
   "execution_count": 268,
   "id": "dbe2dfd5",
   "metadata": {},
   "outputs": [],
   "source": [
    "cargoes = cargoes[cargoes['unit'].isin(unit_to_kg.keys())]\n",
    "cargoes = cargoes[~cargoes['port_from'].isin(ports_remove)]\n",
    "cargoes = cargoes[~cargoes['port_to'].isin(ports_remove)]"
   ]
  },
  {
   "cell_type": "markdown",
   "id": "4b6d1ded",
   "metadata": {},
   "source": [
    "### Procesar fracciones\n",
    "Algunas cantidades están expresadas como fracciones (i.e. '1 3/4'). Convertimos esta representación a formato decimal."
   ]
  },
  {
   "cell_type": "code",
   "execution_count": 269,
   "id": "aee4113b",
   "metadata": {},
   "outputs": [],
   "source": [
    "# from fractions to float\n",
    "cargoes['amount'] = cargoes['amount'].apply(fraction_to_float)\n",
    "cargoes['kg'] = cargoes[['amount', 'unit']].apply(lambda x: x[0] * unit_to_kg[x[1]], axis=1)"
   ]
  },
  {
   "cell_type": "markdown",
   "id": "bf8600bc",
   "metadata": {},
   "source": [
    "### Agrupar datos por viaje\n",
    "Algunos viajes presentan varias entradas para la mercancía _ámbar_ en distintas unidades de medida. Una vez que todas las unidades de medida han sido convertidas a kilogramos, es posible sumar estas cantidades, obteniendo el total de kilogramos transportados en un determinado viaje"
   ]
  },
  {
   "cell_type": "code",
   "execution_count": 271,
   "id": "40dfcd40",
   "metadata": {},
   "outputs": [],
   "source": [
    "# group by id, port_from and port_to, calculate sum of kg\n",
    "# original units and amounts will be lost during the aggregation\n",
    "cargoes_summary = cargoes.groupby(['id', 'port_from', 'port_to'])['kg'].sum()\n",
    "# it is required to reset indexes\n",
    "cargoes_summary = cargoes_summary.reset_index()"
   ]
  },
  {
   "cell_type": "markdown",
   "id": "6548620d",
   "metadata": {},
   "source": [
    "### Calcular / cargar coordenadas\n",
    "\n",
    "Cálculo de coordenadas puede ser lento. Proporcionamos un dicionario precalculado.\n",
    "\n",
    "Re-calcular coordendadas sólo requiere asigar valor `False` a la variable `use_coordinates_cache`."
   ]
  },
  {
   "cell_type": "code",
   "execution_count": 273,
   "id": "e9d31dd4",
   "metadata": {},
   "outputs": [],
   "source": [
    "# list of all the processed port names in cargoes dataset\n",
    "ports_filtered = set.union(set(cargoes['port_from'].unique()), set(cargoes['port_to'].unique()))\n",
    "\n",
    "if use_coordinates_cache:\n",
    "    # load coordinates cache\n",
    "    with open('./coordinates.json', 'r') as file_json:\n",
    "        coordinates = json.load(file_json)\n",
    "else:\n",
    "    coordinates = geolocate_ports(list(ports_filtered))\n",
    "    \n",
    "cargoes_summary['lat_from'] = cargoes_summary['port_from'].apply(lambda x: coordinates[x][0])\n",
    "cargoes_summary['lon_from'] = cargoes_summary['port_from'].apply(lambda x: coordinates[x][1])\n",
    "\n",
    "cargoes_summary['lat_to'] = cargoes_summary['port_to'].apply(lambda x: coordinates[x][0])\n",
    "cargoes_summary['lon_to'] = cargoes_summary['port_to'].apply(lambda x: coordinates[x][1])"
   ]
  },
  {
   "cell_type": "markdown",
   "id": "461a637a",
   "metadata": {},
   "source": [
    "### Generar dataset final"
   ]
  },
  {
   "cell_type": "code",
   "execution_count": 274,
   "id": "aa06ad2f",
   "metadata": {},
   "outputs": [],
   "source": [
    "table = pd.merge(cargoes_summary, passages, on='id')"
   ]
  },
  {
   "cell_type": "code",
   "execution_count": 277,
   "id": "35be3d81",
   "metadata": {},
   "outputs": [],
   "source": [
    "table.to_csv('amber.csv')"
   ]
  },
  {
   "cell_type": "code",
   "execution_count": 275,
   "id": "08c1511b",
   "metadata": {},
   "outputs": [
    {
     "data": {
      "text/html": [
       "<div>\n",
       "<style scoped>\n",
       "    .dataframe tbody tr th:only-of-type {\n",
       "        vertical-align: middle;\n",
       "    }\n",
       "\n",
       "    .dataframe tbody tr th {\n",
       "        vertical-align: top;\n",
       "    }\n",
       "\n",
       "    .dataframe thead th {\n",
       "        text-align: right;\n",
       "    }\n",
       "</style>\n",
       "<table border=\"1\" class=\"dataframe\">\n",
       "  <thead>\n",
       "    <tr style=\"text-align: right;\">\n",
       "      <th></th>\n",
       "      <th>id</th>\n",
       "      <th>port_from</th>\n",
       "      <th>port_to</th>\n",
       "      <th>kg</th>\n",
       "      <th>lat_from</th>\n",
       "      <th>lon_from</th>\n",
       "      <th>lat_to</th>\n",
       "      <th>lon_to</th>\n",
       "      <th>date</th>\n",
       "    </tr>\n",
       "  </thead>\n",
       "  <tbody>\n",
       "    <tr>\n",
       "      <th>0</th>\n",
       "      <td>134935</td>\n",
       "      <td>Malmøe</td>\n",
       "      <td>Gottenborg</td>\n",
       "      <td>2.000</td>\n",
       "      <td>55.605293</td>\n",
       "      <td>13.000157</td>\n",
       "      <td>60.902828</td>\n",
       "      <td>11.806039</td>\n",
       "      <td>1782-05-29 00:00:00</td>\n",
       "    </tr>\n",
       "    <tr>\n",
       "      <th>1</th>\n",
       "      <td>221359</td>\n",
       "      <td>Liebau</td>\n",
       "      <td>Hamborg</td>\n",
       "      <td>160.076</td>\n",
       "      <td>49.876699</td>\n",
       "      <td>17.082672</td>\n",
       "      <td>53.550341</td>\n",
       "      <td>10.000654</td>\n",
       "      <td>1772-05-06 00:00:00</td>\n",
       "    </tr>\n",
       "    <tr>\n",
       "      <th>2</th>\n",
       "      <td>222683</td>\n",
       "      <td>Stettin</td>\n",
       "      <td>Amsterdam</td>\n",
       "      <td>24.000</td>\n",
       "      <td>53.429681</td>\n",
       "      <td>14.592913</td>\n",
       "      <td>52.372760</td>\n",
       "      <td>4.893604</td>\n",
       "      <td>1776-12-13 00:00:00</td>\n",
       "    </tr>\n",
       "    <tr>\n",
       "      <th>3</th>\n",
       "      <td>231440</td>\n",
       "      <td>Malmøe</td>\n",
       "      <td>Gottenborg</td>\n",
       "      <td>2.500</td>\n",
       "      <td>55.605293</td>\n",
       "      <td>13.000157</td>\n",
       "      <td>60.902828</td>\n",
       "      <td>11.806039</td>\n",
       "      <td>1779-07-14 00:00:00</td>\n",
       "    </tr>\n",
       "    <tr>\n",
       "      <th>4</th>\n",
       "      <td>238566</td>\n",
       "      <td>Rugenwalde</td>\n",
       "      <td>Amsterdam</td>\n",
       "      <td>150.000</td>\n",
       "      <td>54.429150</td>\n",
       "      <td>16.403846</td>\n",
       "      <td>52.372760</td>\n",
       "      <td>4.893604</td>\n",
       "      <td>1775-07-17 00:00:00</td>\n",
       "    </tr>\n",
       "    <tr>\n",
       "      <th>...</th>\n",
       "      <td>...</td>\n",
       "      <td>...</td>\n",
       "      <td>...</td>\n",
       "      <td>...</td>\n",
       "      <td>...</td>\n",
       "      <td>...</td>\n",
       "      <td>...</td>\n",
       "      <td>...</td>\n",
       "      <td>...</td>\n",
       "    </tr>\n",
       "    <tr>\n",
       "      <th>971</th>\n",
       "      <td>1752582</td>\n",
       "      <td>Danzig</td>\n",
       "      <td>Amsterdam</td>\n",
       "      <td>20.000</td>\n",
       "      <td>54.361193</td>\n",
       "      <td>18.628609</td>\n",
       "      <td>52.372760</td>\n",
       "      <td>4.893604</td>\n",
       "      <td>1700-11-08 00:00:00</td>\n",
       "    </tr>\n",
       "    <tr>\n",
       "      <th>972</th>\n",
       "      <td>5087883</td>\n",
       "      <td>Danzig</td>\n",
       "      <td>Amsterdam</td>\n",
       "      <td>16.500</td>\n",
       "      <td>54.361193</td>\n",
       "      <td>18.628609</td>\n",
       "      <td>52.372760</td>\n",
       "      <td>4.893604</td>\n",
       "      <td>1733-09-23 00:00:00</td>\n",
       "    </tr>\n",
       "    <tr>\n",
       "      <th>973</th>\n",
       "      <td>10000021</td>\n",
       "      <td>Danzig</td>\n",
       "      <td>London</td>\n",
       "      <td>159.000</td>\n",
       "      <td>54.361193</td>\n",
       "      <td>18.628609</td>\n",
       "      <td>51.507322</td>\n",
       "      <td>-0.127647</td>\n",
       "      <td>1751-05-23 00:00:00</td>\n",
       "    </tr>\n",
       "    <tr>\n",
       "      <th>974</th>\n",
       "      <td>10000315</td>\n",
       "      <td>Danzig</td>\n",
       "      <td>Amsterdam</td>\n",
       "      <td>90.000</td>\n",
       "      <td>54.361193</td>\n",
       "      <td>18.628609</td>\n",
       "      <td>52.372760</td>\n",
       "      <td>4.893604</td>\n",
       "      <td>1757-10-12 00:00:00</td>\n",
       "    </tr>\n",
       "    <tr>\n",
       "      <th>975</th>\n",
       "      <td>10001660</td>\n",
       "      <td>Danzig</td>\n",
       "      <td>Amsterdam</td>\n",
       "      <td>85.000</td>\n",
       "      <td>54.361193</td>\n",
       "      <td>18.628609</td>\n",
       "      <td>52.372760</td>\n",
       "      <td>4.893604</td>\n",
       "      <td>1754-07-13 00:00:00</td>\n",
       "    </tr>\n",
       "  </tbody>\n",
       "</table>\n",
       "<p>976 rows × 9 columns</p>\n",
       "</div>"
      ],
      "text/plain": [
       "           id   port_from     port_to       kg   lat_from   lon_from  \\\n",
       "0      134935      Malmøe  Gottenborg    2.000  55.605293  13.000157   \n",
       "1      221359      Liebau     Hamborg  160.076  49.876699  17.082672   \n",
       "2      222683     Stettin   Amsterdam   24.000  53.429681  14.592913   \n",
       "3      231440      Malmøe  Gottenborg    2.500  55.605293  13.000157   \n",
       "4      238566  Rugenwalde   Amsterdam  150.000  54.429150  16.403846   \n",
       "..        ...         ...         ...      ...        ...        ...   \n",
       "971   1752582      Danzig   Amsterdam   20.000  54.361193  18.628609   \n",
       "972   5087883      Danzig   Amsterdam   16.500  54.361193  18.628609   \n",
       "973  10000021      Danzig      London  159.000  54.361193  18.628609   \n",
       "974  10000315      Danzig   Amsterdam   90.000  54.361193  18.628609   \n",
       "975  10001660      Danzig   Amsterdam   85.000  54.361193  18.628609   \n",
       "\n",
       "        lat_to     lon_to                 date  \n",
       "0    60.902828  11.806039  1782-05-29 00:00:00  \n",
       "1    53.550341  10.000654  1772-05-06 00:00:00  \n",
       "2    52.372760   4.893604  1776-12-13 00:00:00  \n",
       "3    60.902828  11.806039  1779-07-14 00:00:00  \n",
       "4    52.372760   4.893604  1775-07-17 00:00:00  \n",
       "..         ...        ...                  ...  \n",
       "971  52.372760   4.893604  1700-11-08 00:00:00  \n",
       "972  52.372760   4.893604  1733-09-23 00:00:00  \n",
       "973  51.507322  -0.127647  1751-05-23 00:00:00  \n",
       "974  52.372760   4.893604  1757-10-12 00:00:00  \n",
       "975  52.372760   4.893604  1754-07-13 00:00:00  \n",
       "\n",
       "[976 rows x 9 columns]"
      ]
     },
     "execution_count": 275,
     "metadata": {},
     "output_type": "execute_result"
    }
   ],
   "source": [
    "table"
   ]
  },
  {
   "cell_type": "code",
   "execution_count": null,
   "id": "014ec52c",
   "metadata": {},
   "outputs": [],
   "source": []
  }
 ],
 "metadata": {
  "kernelspec": {
   "display_name": "Python 3 (ipykernel)",
   "language": "python",
   "name": "python3"
  },
  "language_info": {
   "codemirror_mode": {
    "name": "ipython",
    "version": 3
   },
   "file_extension": ".py",
   "mimetype": "text/x-python",
   "name": "python",
   "nbconvert_exporter": "python",
   "pygments_lexer": "ipython3",
   "version": "3.9.9"
  }
 },
 "nbformat": 4,
 "nbformat_minor": 5
}
